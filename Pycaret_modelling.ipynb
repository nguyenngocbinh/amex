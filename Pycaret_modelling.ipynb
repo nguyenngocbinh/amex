{
  "nbformat": 4,
  "nbformat_minor": 0,
  "metadata": {
    "colab": {
      "name": "Pycaret modelling",
      "provenance": [],
      "authorship_tag": "ABX9TyNBs/sEIXskXoqUXCosGpLq",
      "include_colab_link": true
    },
    "kernelspec": {
      "name": "python3",
      "display_name": "Python 3"
    },
    "language_info": {
      "name": "python"
    }
  },
  "cells": [
    {
      "cell_type": "markdown",
      "metadata": {
        "id": "view-in-github",
        "colab_type": "text"
      },
      "source": [
        "<a href=\"https://colab.research.google.com/github/nguyenngocbinh/amex/blob/master/Pycaret_modelling.ipynb\" target=\"_parent\"><img src=\"https://colab.research.google.com/assets/colab-badge.svg\" alt=\"Open In Colab\"/></a>"
      ]
    },
    {
      "cell_type": "code",
      "execution_count": null,
      "metadata": {
        "id": "RxJd1PF3A3NU"
      },
      "outputs": [],
      "source": [
        "%%capture\n",
        "import sys\n",
        "ENV_COLAB = 'google.colab' in sys.modules\n",
        "\n",
        "if ENV_COLAB:\n",
        "    # usual imports\n",
        "    !pip install watermark\n",
        "    !pip install scikit-plot\n",
        "\n",
        "    # HPO for pycaret\n",
        "    !pip install tune-sklearn\n",
        "    !pip install optuna # hyperopt is already in colab\n",
        "\n",
        "    # gpu version of lightgbm for pycaret\n",
        "    !pip uninstall lightgbm -y\n",
        "    !pip install lightgbm --install-option=--gpu --install-option=\"--opencl-include-dir=/usr/local/cuda/include/\" --install-option=\"--opencl-library=/usr/local/cuda/lib64/libOpenCL.so\"\n",
        "\n",
        "    # regular pycaret without gpu \n",
        "    !pip install pycaret-nightly[full]\n",
        "\n",
        "    # ipywidget\n",
        "    !pip install ipywidgets\n",
        "    !jupyter nbextension enable --py widgetsnbextension\n",
        "\n",
        "    from pycaret.utils import enable_colab\n",
        "    enable_colab()\n",
        "\n",
        "    print('Environment: Google Colab')"
      ]
    },
    {
      "cell_type": "markdown",
      "source": [
        "https://bhishanpdl.github.io/Projects/Customer_Churn/spn01_churn_special_pycaret_nb.html\n"
      ],
      "metadata": {
        "id": "looGMol9BQL9"
      }
    },
    {
      "cell_type": "code",
      "source": [
        ""
      ],
      "metadata": {
        "id": "yThZMyy_BTPD"
      },
      "execution_count": null,
      "outputs": []
    }
  ]
}