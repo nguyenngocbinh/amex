{
  "cells": [
    {
      "cell_type": "markdown",
      "metadata": {
        "id": "view-in-github",
        "colab_type": "text"
      },
      "source": [
        "<a href=\"https://colab.research.google.com/github/nguyenngocbinh/amex/blob/master/AMEX_%7C_EDA_%7C_NNB.ipynb\" target=\"_parent\"><img src=\"https://colab.research.google.com/assets/colab-badge.svg\" alt=\"Open In Colab\"/></a>"
      ]
    },
    {
      "cell_type": "code",
      "execution_count": 1,
      "metadata": {
        "id": "PNyl48sW-WSV"
      },
      "outputs": [],
      "source": [
        "from google.colab import files\n",
        "import pandas as pd"
      ]
    },
    {
      "cell_type": "code",
      "execution_count": 2,
      "metadata": {
        "id": "dKZWLWUoCLyv"
      },
      "outputs": [],
      "source": [
        "! pip install -q kaggle"
      ]
    },
    {
      "cell_type": "code",
      "execution_count": 3,
      "metadata": {
        "colab": {
          "base_uri": "https://localhost:8080/",
          "height": 90,
          "resources": {
            "http://localhost:8080/nbextensions/google.colab/files.js": {
              "data": "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",
              "headers": [
                [
                  "content-type",
                  "application/javascript"
                ]
              ],
              "ok": true,
              "status": 200,
              "status_text": "OK"
            }
          }
        },
        "id": "irSG-3acCRy5",
        "outputId": "6e860d11-8715-4a29-a248-989b99a8b491"
      },
      "outputs": [
        {
          "output_type": "display_data",
          "data": {
            "text/plain": [
              "<IPython.core.display.HTML object>"
            ],
            "text/html": [
              "\n",
              "     <input type=\"file\" id=\"files-3db2dd2d-8a48-4239-b70d-bdafa161c23e\" name=\"files[]\" multiple disabled\n",
              "        style=\"border:none\" />\n",
              "     <output id=\"result-3db2dd2d-8a48-4239-b70d-bdafa161c23e\">\n",
              "      Upload widget is only available when the cell has been executed in the\n",
              "      current browser session. Please rerun this cell to enable.\n",
              "      </output>\n",
              "      <script src=\"/nbextensions/google.colab/files.js\"></script> "
            ]
          },
          "metadata": {}
        },
        {
          "output_type": "stream",
          "name": "stdout",
          "text": [
            "Saving kaggle.json to kaggle.json\n"
          ]
        },
        {
          "output_type": "execute_result",
          "data": {
            "text/plain": [
              "{'kaggle.json': b'{\"username\":\"nanabi\",\"key\":\"c6e5949212bedaf99b1c9049460a697e\"}'}"
            ]
          },
          "metadata": {},
          "execution_count": 3
        }
      ],
      "source": [
        "files.upload()"
      ]
    },
    {
      "cell_type": "code",
      "execution_count": 4,
      "metadata": {
        "id": "7Up2meoy-6P-"
      },
      "outputs": [],
      "source": [
        "! mkdir ~/.kaggle\n",
        "! cp kaggle.json ~/.kaggle/\n",
        "! chmod 600 ~/.kaggle/kaggle.json"
      ]
    },
    {
      "cell_type": "code",
      "execution_count": 5,
      "metadata": {
        "colab": {
          "base_uri": "https://localhost:8080/"
        },
        "id": "LCSZdYOKB1v5",
        "outputId": "00bd91ee-c4c7-4e7e-db58-cc1b40f9f7c3"
      },
      "outputs": [
        {
          "output_type": "stream",
          "name": "stdout",
          "text": [
            "ref                                                       title                                               size  lastUpdated          downloadCount  voteCount  usabilityRating  \n",
            "--------------------------------------------------------  -------------------------------------------------  -----  -------------------  -------------  ---------  ---------------  \n",
            "ruchi798/data-science-job-salaries                        Data Science Job Salaries                            7KB  2022-06-15 08:59:12           5576        193  1.0              \n",
            "surajjha101/bigbasket-entire-product-list-28k-datapoints  BigBasket Entire Product List (~28K datapoints)      6MB  2022-06-22 12:51:18           1692         80  1.0              \n",
            "victorsoeiro/netflix-tv-shows-and-movies                  Netflix TV Shows and Movies                          2MB  2022-05-15 00:01:23          16318        475  1.0              \n",
            "sameepvani/nasa-nearest-earth-objects                     NASA - Nearest Earth Objects                         7MB  2022-06-17 02:32:18           2214        103  1.0              \n",
            "zusmani/petrolgas-prices-worldwide                        Petrol/Gas Prices Worldwide                         10KB  2022-06-24 01:25:33           2134        101  1.0              \n",
            "mukuldeshantri/ecommerce-fashion-dataset                  E-commerce Dataset with 30K Products               546KB  2022-07-08 12:28:18            515         25  1.0              \n",
            "jimschacko/airlines-dataset-to-predict-a-delay            Airlines Dataset to predict a delay                  6MB  2022-06-21 05:45:44           1941         55  1.0              \n",
            "iamsouravbanerjee/nifty500-stocks-dataset                 Stock Market Dataset (NIFTY-500)                    35KB  2022-07-17 11:46:10            593         52  1.0              \n",
            "zusmani/pakistans-national-assembly-attendance-20182022   Pakistan's National Assembly Attendance 2018-2022    2MB  2022-07-15 03:33:32            229         22  0.88235295       \n",
            "dansbecker/melbourne-housing-snapshot                     Melbourne Housing Snapshot                         451KB  2018-06-05 12:52:24          91014       1107  0.7058824        \n",
            "ramjasmaurya/1-gb-internet-price                          Internet Prices around 200+ countries in 2022.      22KB  2022-07-17 02:56:12           1020         39  0.9705882        \n",
            "datasnaek/youtube-new                                     Trending YouTube Video Statistics                  201MB  2019-06-03 00:56:47         179142       4597  0.7941176        \n",
            "zynicide/wine-reviews                                     Wine Reviews                                        51MB  2017-11-27 17:08:04         163002       3335  0.7941176        \n",
            "deepcontractor/car-price-prediction-challenge             Car Price Prediction Challenge                     429KB  2022-07-06 11:38:32            481         39  0.9411765        \n",
            "devansodariya/student-performance-data                    Student Performance Dataset                          7KB  2022-05-26 13:55:09           9490        248  0.9705882        \n",
            "datasnaek/chess                                           Chess Game Dataset (Lichess)                         3MB  2017-09-04 03:09:09          30446       1018  0.8235294        \n",
            "rtatman/188-million-us-wildfires                          1.88 Million US Wildfires                          168MB  2020-05-12 21:03:49          20688       1016  0.8235294        \n",
            "residentmario/ramen-ratings                               Ramen Ratings                                       40KB  2018-01-11 16:04:39          34798        792  0.7058824        \n",
            "dansbecker/powerlifting-database                          powerlifting-database                                9MB  2019-04-30 21:07:41           4910         59  0.5882353        \n",
            "jpmiller/publicassistance                                 US Public Food Assistance                          703KB  2020-08-21 16:51:18          16613        395  0.9117647        \n"
          ]
        }
      ],
      "source": [
        "! kaggle datasets list"
      ]
    },
    {
      "cell_type": "code",
      "execution_count": null,
      "metadata": {
        "id": "wfq1vTR0DyjC"
      },
      "outputs": [],
      "source": [
        ""
      ]
    },
    {
      "cell_type": "code",
      "execution_count": 6,
      "metadata": {
        "id": "zapMk04IC8Q8",
        "colab": {
          "base_uri": "https://localhost:8080/"
        },
        "outputId": "fc47d6ac-0621-427f-89f1-1423104eba31"
      },
      "outputs": [
        {
          "output_type": "stream",
          "name": "stdout",
          "text": [
            "ref                                            deadline             category            reward  teamCount  userHasEntered  \n",
            "---------------------------------------------  -------------------  ---------------  ---------  ---------  --------------  \n",
            "contradictory-my-dear-watson                   2030-07-01 23:59:00  Getting Started     Prizes         51           False  \n",
            "gan-getting-started                            2030-07-01 23:59:00  Getting Started     Prizes         99           False  \n",
            "store-sales-time-series-forecasting            2030-06-30 23:59:00  Getting Started  Knowledge        622           False  \n",
            "tpu-getting-started                            2030-06-03 23:59:00  Getting Started  Knowledge        124           False  \n",
            "digit-recognizer                               2030-01-01 00:00:00  Getting Started  Knowledge       1245           False  \n",
            "titanic                                        2030-01-01 00:00:00  Getting Started  Knowledge      15130           False  \n",
            "house-prices-advanced-regression-techniques    2030-01-01 00:00:00  Getting Started  Knowledge       3987           False  \n",
            "connectx                                       2030-01-01 00:00:00  Getting Started  Knowledge        199           False  \n",
            "nlp-getting-started                            2030-01-01 00:00:00  Getting Started  Knowledge        807           False  \n",
            "spaceship-titanic                              2030-01-01 00:00:00  Getting Started  Knowledge       2291           False  \n",
            "competitive-data-science-predict-future-sales  2022-12-31 23:59:00  Playground           Kudos      15114           False  \n",
            "google-universal-image-embedding               2022-10-10 23:59:00  Research           $50,000        169           False  \n",
            "jpx-tokyo-stock-exchange-prediction            2022-10-07 23:59:00  Featured           $63,000       2085            True  \n",
            "mayo-clinic-strip-ai                           2022-10-05 23:59:00  Research           $10,000        126           False  \n",
            "hubmap-organ-segmentation                      2022-09-22 23:59:00  Research           $60,000        382           False  \n",
            "amex-default-prediction                        2022-08-24 23:59:00  Featured          $100,000       2928            True  \n",
            "feedback-prize-effectiveness                   2022-08-23 23:59:00  Featured           $55,000        969           False  \n",
            "AI4Code                                        2022-08-11 23:59:00  Featured          $150,000        897           False  \n",
            "tabular-playground-series-jul-2022             2022-07-31 23:59:00  Playground            Swag        864           False  \n",
            "smartphone-decimeter-2022                      2022-07-29 23:59:00  Research           $10,000        520           False  \n"
          ]
        }
      ],
      "source": [
        "!kaggle competitions list"
      ]
    },
    {
      "cell_type": "markdown",
      "metadata": {
        "id": "G-iyByDLQEKk"
      },
      "source": [
        "# Download data from kaggle"
      ]
    },
    {
      "cell_type": "code",
      "execution_count": 7,
      "metadata": {
        "colab": {
          "base_uri": "https://localhost:8080/"
        },
        "id": "qFjrMg9HDzj5",
        "outputId": "d913105d-de2c-4a59-ed2d-cd7b65e70c18"
      },
      "outputs": [
        {
          "output_type": "stream",
          "name": "stdout",
          "text": [
            "Downloading amex-default-prediction.zip to /content\n",
            "100% 20.5G/20.5G [01:27<00:00, 240MB/s]\n",
            "100% 20.5G/20.5G [01:27<00:00, 251MB/s]\n"
          ]
        }
      ],
      "source": [
        "!kaggle competitions download -c amex-default-prediction "
      ]
    },
    {
      "cell_type": "code",
      "execution_count": 8,
      "metadata": {
        "colab": {
          "base_uri": "https://localhost:8080/"
        },
        "id": "3FIUswFChGRl",
        "outputId": "bda5084c-2f09-4f55-b2a3-cc80e296f864"
      },
      "outputs": [
        {
          "output_type": "stream",
          "name": "stdout",
          "text": [
            "Downloading amex-data-integer-dtypes-parquet-format.zip to /content\n",
            "100% 4.07G/4.07G [00:31<00:00, 140MB/s]\n",
            "100% 4.07G/4.07G [00:31<00:00, 137MB/s]\n"
          ]
        }
      ],
      "source": [
        "!kaggle datasets download -d raddar/amex-data-integer-dtypes-parquet-format"
      ]
    },
    {
      "cell_type": "code",
      "execution_count": 9,
      "metadata": {
        "colab": {
          "base_uri": "https://localhost:8080/"
        },
        "id": "U0dHr3gxP51s",
        "outputId": "4329a025-ef99-4bf4-d8d3-4b1a8cc81c39"
      },
      "outputs": [
        {
          "output_type": "stream",
          "name": "stdout",
          "text": [
            "Archive:  /content/amex-default-prediction.zip\n",
            "  inflating: sample_submission.csv   \n",
            "  inflating: test_data.csv           \n",
            "  inflating: train_data.csv          \n",
            "  inflating: train_labels.csv        \n"
          ]
        }
      ],
      "source": [
        "!unzip '/content/amex-default-prediction.zip'"
      ]
    },
    {
      "cell_type": "code",
      "execution_count": 10,
      "metadata": {
        "colab": {
          "base_uri": "https://localhost:8080/"
        },
        "id": "8gdBB3lDEnjn",
        "outputId": "e1a01461-bab7-4a9e-ff04-ff034c5d0add"
      },
      "outputs": [
        {
          "output_type": "stream",
          "name": "stdout",
          "text": [
            "Archive:  /content/amex-data-integer-dtypes-parquet-format.zip\n",
            "  inflating: test.parquet            \n",
            "  inflating: train.parquet           \n"
          ]
        }
      ],
      "source": [
        "!unzip '/content/amex-data-integer-dtypes-parquet-format.zip'"
      ]
    },
    {
      "cell_type": "code",
      "execution_count": null,
      "metadata": {
        "id": "X_BWn58uctRM"
      },
      "outputs": [],
      "source": [
        "import psutil\n",
        "psutil.virtual_memory()"
      ]
    },
    {
      "cell_type": "markdown",
      "metadata": {
        "id": "IkzyPx2KQRzZ"
      },
      "source": [
        "# Submit template"
      ]
    },
    {
      "cell_type": "code",
      "execution_count": null,
      "metadata": {
        "colab": {
          "base_uri": "https://localhost:8080/"
        },
        "id": "9oC7WevaGCLA",
        "outputId": "18677c75-7a07-442c-ea90-cdb22dfcb93f"
      },
      "outputs": [
        {
          "name": "stdout",
          "output_type": "stream",
          "text": [
            "100% 59.1M/59.1M [00:00<00:00, 69.7MB/s]\n",
            "Successfully submitted to American Express - Default Prediction"
          ]
        }
      ],
      "source": [
        "!kaggle competitions submit -c amex-default-prediction -f /content/sample_submission.csv -m test_submission1"
      ]
    },
    {
      "cell_type": "markdown",
      "metadata": {
        "id": "3wQxGY5x_u-5"
      },
      "source": [
        "# EDA"
      ]
    },
    {
      "cell_type": "code",
      "execution_count": 18,
      "metadata": {
        "id": "8IcxJd_WOjhF"
      },
      "outputs": [],
      "source": [
        "# ====================================================\n",
        "# Library\n",
        "# ====================================================\n",
        "import gc\n",
        "import warnings\n",
        "warnings.filterwarnings('ignore')\n",
        "import scipy as sp\n",
        "import numpy as np\n",
        "import pandas as pd\n",
        "pd.set_option('display.max_rows', 500)\n",
        "pd.set_option('display.max_columns', 500)\n",
        "pd.set_option('display.width', 1000)\n",
        "from tqdm.auto import tqdm\n",
        "import itertools\n",
        "import pyarrow.parquet as pq"
      ]
    },
    {
      "cell_type": "markdown",
      "metadata": {
        "id": "qGDFcuyfQZpw"
      },
      "source": [
        "## Feature engineering"
      ]
    },
    {
      "cell_type": "code",
      "execution_count": 20,
      "metadata": {
        "id": "L17otWhiPRKa"
      },
      "outputs": [],
      "source": [
        "def features_info():\n",
        "    cat_features = [\n",
        "        \"B_30\",\n",
        "        \"B_38\",\n",
        "        \"D_114\",\n",
        "        \"D_116\",\n",
        "        \"D_117\",\n",
        "        \"D_120\",\n",
        "        \"D_126\",\n",
        "        \"D_63\",\n",
        "        \"D_64\",\n",
        "        \"D_66\",\n",
        "        \"D_68\",\n",
        "    ]\n",
        "    schema = pq.read_schema('/content/train.parquet', memory_map=True)\n",
        "    features = list(schema.names)\n",
        "    features = [col for col in features if col not in ['customer_ID', 'S_2']]\n",
        "    num_features = [col for col in features if col not in cat_features]\n",
        "    return features, cat_features, num_features\n",
        "\n",
        "\n",
        "def preprocess_train_data(nlag):\n",
        "    features, cat_features, num_features = features_info()\n",
        "    print('Starting training feature engineer...')\n",
        "    train = pd.read_parquet('/content/train.parquet')\n",
        "    train_num_agg = train.groupby(\"customer_ID\").tail(nlag).groupby(\n",
        "        \"customer_ID\")[num_features].agg({'mean', 'std', 'min', 'max', 'last'})\n",
        "    train_num_agg.columns = ['_'.join(x) for x in train_num_agg.columns]\n",
        "    train_num_agg.reset_index(inplace=True)\n",
        "    train_cat_agg = train.groupby(\"customer_ID\")[cat_features].agg(\n",
        "        ['count', 'last', 'nunique'])\n",
        "    train_cat_agg.columns = ['_'.join(x) for x in train_cat_agg.columns]\n",
        "    train_cat_agg.reset_index(inplace=True)\n",
        "    train_labels = pd.read_csv('/content/train_labels.csv')\n",
        "    train = train_num_agg.merge(train_cat_agg, how='inner',\n",
        "                                on='customer_ID').merge(train_labels,\n",
        "                                                        how='inner',\n",
        "                                                        on='customer_ID')\n",
        "    gc.collect()\n",
        "    print('Finished train feature engineer!')\n",
        "    return train\n",
        "\n",
        "\n",
        "def preprocess_test_data():\n",
        "    features, cat_features, num_features = features_info()\n",
        "    gc.collect()\n",
        "    test = pd.read_parquet('/content/test.parquet')\n",
        "    print('Starting test feature engineer...')\n",
        "    test_num_agg = test.groupby(\"customer_ID\").tail(3).groupby(\n",
        "        \"customer_ID\")[num_features].agg(['mean', 'std', 'min', 'max', 'last'])\n",
        "    test_num_agg.columns = ['_'.join(x) for x in test_num_agg.columns]\n",
        "    test_num_agg.reset_index(inplace=True)\n",
        "    test_cat_agg = test.groupby(\"customer_ID\")[cat_features].agg(\n",
        "        ['count', 'last', 'nunique'])\n",
        "    test_cat_agg.columns = ['_'.join(x) for x in test_cat_agg.columns]\n",
        "    test_cat_agg.reset_index(inplace=True)\n",
        "    test = test_num_agg.merge(test_cat_agg, how='inner', on='customer_ID')\n",
        "    gc.collect()\n",
        "    print('Finished test feature engineer!')\n",
        "    return test"
      ]
    },
    {
      "cell_type": "code",
      "execution_count": 21,
      "metadata": {
        "colab": {
          "base_uri": "https://localhost:8080/"
        },
        "id": "m5CN87dCUIS2",
        "outputId": "d032c807-df93-4323-cc01-8f314a1dc2c5"
      },
      "outputs": [
        {
          "output_type": "stream",
          "name": "stdout",
          "text": [
            "Starting training feature engineer...\n",
            "Finished train feature engineer!\n"
          ]
        }
      ],
      "source": [
        "preprocess_train_data(nlag = 13).to_parquet('/content/train_data_fe.parquet')"
      ]
    },
    {
      "cell_type": "code",
      "source": [
        "preprocess_train_data(nlag = 6).to_parquet('/content/train_data_lag6_fe.parquet')"
      ],
      "metadata": {
        "id": "ExHMJTgbI-uE"
      },
      "execution_count": null,
      "outputs": []
    },
    {
      "cell_type": "code",
      "source": [
        "preprocess_test_data().to_parquet('/content/test_data_fe.parquet')"
      ],
      "metadata": {
        "id": "C4w8s-u2JIF8",
        "outputId": "e0052352-13b1-4896-f374-0b8bddd6e99a",
        "colab": {
          "base_uri": "https://localhost:8080/"
        }
      },
      "execution_count": null,
      "outputs": [
        {
          "output_type": "stream",
          "name": "stdout",
          "text": [
            "Starting test feature engineer...\n"
          ]
        }
      ]
    },
    {
      "cell_type": "markdown",
      "metadata": {
        "id": "Y0Mi0-00Qn8q"
      },
      "source": [
        "# Modelling"
      ]
    },
    {
      "cell_type": "code",
      "execution_count": 14,
      "metadata": {
        "colab": {
          "base_uri": "https://localhost:8080/",
          "height": 1000,
          "referenced_widgets": [
            "f24195b97d1344e7acfde1abce8b1463",
            "0494313d1e174fc5a2acb7c304416d26",
            "aa956a15d2f64e579b8e18fefef638cc",
            "c735a2d6ec5c4d2f87ab4e6b1456c22d",
            "84d21a855db4454eade95c74a14d65b2",
            "5e6e24bcc9f444968d9ff7134f5a860a",
            "4f36100995dd4e76ace2aa588207013b",
            "0482fbc91b314be9951ce12aacac4ed2",
            "f7f2acd8e5ba46f39ebb8da9e07caf99",
            "2143e13a144c4bec9c4e9b0d0e24c263",
            "ee0e414a8ea64369b4814ae1859875ab"
          ]
        },
        "id": "DydYN-6pQnIe",
        "outputId": "60bedfa0-086a-4a5f-ac52-eb2b27dcb7a5"
      },
      "outputs": [
        {
          "output_type": "display_data",
          "data": {
            "text/plain": [
              "  0%|          | 0/540 [00:00<?, ?it/s]"
            ],
            "application/vnd.jupyter.widget-view+json": {
              "version_major": 2,
              "version_minor": 0,
              "model_id": "f24195b97d1344e7acfde1abce8b1463"
            }
          },
          "metadata": {}
        },
        {
          "output_type": "stream",
          "name": "stdout",
          "text": [
            " \n",
            "--------------------------------------------------\n",
            "Training fold 0 with 741 features...\n",
            "[500]\ttraining's binary_logloss: 0.34201\ttraining's amex_metric: 0.76707\tvalid_1's binary_logloss: 0.343623\tvalid_1's amex_metric: 0.761919\n",
            "[1000]\ttraining's binary_logloss: 0.252414\ttraining's amex_metric: 0.783742\tvalid_1's binary_logloss: 0.256908\tvalid_1's amex_metric: 0.772692\n",
            "[1500]\ttraining's binary_logloss: 0.228837\ttraining's amex_metric: 0.796626\tvalid_1's binary_logloss: 0.236709\tvalid_1's amex_metric: 0.779165\n",
            "[2000]\ttraining's binary_logloss: 0.215724\ttraining's amex_metric: 0.809387\tvalid_1's binary_logloss: 0.227847\tvalid_1's amex_metric: 0.78457\n",
            "[2500]\ttraining's binary_logloss: 0.209255\ttraining's amex_metric: 0.818459\tvalid_1's binary_logloss: 0.224975\tvalid_1's amex_metric: 0.787756\n",
            "[3000]\ttraining's binary_logloss: 0.202906\ttraining's amex_metric: 0.827616\tvalid_1's binary_logloss: 0.222713\tvalid_1's amex_metric: 0.789477\n",
            "[3500]\ttraining's binary_logloss: 0.196987\ttraining's amex_metric: 0.836359\tvalid_1's binary_logloss: 0.221192\tvalid_1's amex_metric: 0.791234\n",
            "[4000]\ttraining's binary_logloss: 0.191817\ttraining's amex_metric: 0.845338\tvalid_1's binary_logloss: 0.220251\tvalid_1's amex_metric: 0.792803\n",
            "[4500]\ttraining's binary_logloss: 0.18675\ttraining's amex_metric: 0.853909\tvalid_1's binary_logloss: 0.219434\tvalid_1's amex_metric: 0.793193\n",
            "[5000]\ttraining's binary_logloss: 0.18175\ttraining's amex_metric: 0.862477\tvalid_1's binary_logloss: 0.218825\tvalid_1's amex_metric: 0.793353\n",
            "[5500]\ttraining's binary_logloss: 0.177302\ttraining's amex_metric: 0.869827\tvalid_1's binary_logloss: 0.218508\tvalid_1's amex_metric: 0.793889\n",
            "[6000]\ttraining's binary_logloss: 0.173464\ttraining's amex_metric: 0.877109\tvalid_1's binary_logloss: 0.218278\tvalid_1's amex_metric: 0.793981\n",
            "[6500]\ttraining's binary_logloss: 0.169385\ttraining's amex_metric: 0.883978\tvalid_1's binary_logloss: 0.217983\tvalid_1's amex_metric: 0.793562\n",
            "[7000]\ttraining's binary_logloss: 0.16469\ttraining's amex_metric: 0.891808\tvalid_1's binary_logloss: 0.217706\tvalid_1's amex_metric: 0.794293\n",
            "[7500]\ttraining's binary_logloss: 0.160203\ttraining's amex_metric: 0.899385\tvalid_1's binary_logloss: 0.217513\tvalid_1's amex_metric: 0.794004\n",
            "[8000]\ttraining's binary_logloss: 0.156209\ttraining's amex_metric: 0.906584\tvalid_1's binary_logloss: 0.217365\tvalid_1's amex_metric: 0.794659\n",
            "[8500]\ttraining's binary_logloss: 0.152788\ttraining's amex_metric: 0.913086\tvalid_1's binary_logloss: 0.217385\tvalid_1's amex_metric: 0.795548\n",
            "[9000]\ttraining's binary_logloss: 0.148875\ttraining's amex_metric: 0.919295\tvalid_1's binary_logloss: 0.217279\tvalid_1's amex_metric: 0.794576\n",
            "[9500]\ttraining's binary_logloss: 0.145361\ttraining's amex_metric: 0.924757\tvalid_1's binary_logloss: 0.217275\tvalid_1's amex_metric: 0.794126\n",
            "[10000]\ttraining's binary_logloss: 0.141876\ttraining's amex_metric: 0.930847\tvalid_1's binary_logloss: 0.217184\tvalid_1's amex_metric: 0.794092\n",
            "[10500]\ttraining's binary_logloss: 0.138845\ttraining's amex_metric: 0.935792\tvalid_1's binary_logloss: 0.21717\tvalid_1's amex_metric: 0.794155\n",
            "Our fold 0 CV score is 0.7941551352169851\n",
            " \n",
            "--------------------------------------------------\n",
            "Training fold 1 with 741 features...\n",
            "[500]\ttraining's binary_logloss: 0.341292\ttraining's amex_metric: 0.769226\tvalid_1's binary_logloss: 0.34418\tvalid_1's amex_metric: 0.754468\n",
            "[1000]\ttraining's binary_logloss: 0.25176\ttraining's amex_metric: 0.785384\tvalid_1's binary_logloss: 0.258631\tvalid_1's amex_metric: 0.76558\n",
            "[1500]\ttraining's binary_logloss: 0.227995\ttraining's amex_metric: 0.798638\tvalid_1's binary_logloss: 0.239078\tvalid_1's amex_metric: 0.770763\n",
            "[2000]\ttraining's binary_logloss: 0.214873\ttraining's amex_metric: 0.811143\tvalid_1's binary_logloss: 0.230839\tvalid_1's amex_metric: 0.776306\n",
            "[2500]\ttraining's binary_logloss: 0.208328\ttraining's amex_metric: 0.820501\tvalid_1's binary_logloss: 0.228186\tvalid_1's amex_metric: 0.778383\n",
            "[3000]\ttraining's binary_logloss: 0.201875\ttraining's amex_metric: 0.82978\tvalid_1's binary_logloss: 0.22616\tvalid_1's amex_metric: 0.780603\n",
            "[3500]\ttraining's binary_logloss: 0.19593\ttraining's amex_metric: 0.838625\tvalid_1's binary_logloss: 0.224773\tvalid_1's amex_metric: 0.782121\n",
            "[4000]\ttraining's binary_logloss: 0.190762\ttraining's amex_metric: 0.847201\tvalid_1's binary_logloss: 0.224024\tvalid_1's amex_metric: 0.782871\n",
            "[4500]\ttraining's binary_logloss: 0.185667\ttraining's amex_metric: 0.855884\tvalid_1's binary_logloss: 0.223408\tvalid_1's amex_metric: 0.78321\n",
            "[5000]\ttraining's binary_logloss: 0.180633\ttraining's amex_metric: 0.864319\tvalid_1's binary_logloss: 0.222942\tvalid_1's amex_metric: 0.783102\n",
            "[5500]\ttraining's binary_logloss: 0.176136\ttraining's amex_metric: 0.872206\tvalid_1's binary_logloss: 0.222636\tvalid_1's amex_metric: 0.783254\n",
            "[6000]\ttraining's binary_logloss: 0.17228\ttraining's amex_metric: 0.879135\tvalid_1's binary_logloss: 0.222435\tvalid_1's amex_metric: 0.783409\n",
            "[6500]\ttraining's binary_logloss: 0.16823\ttraining's amex_metric: 0.885806\tvalid_1's binary_logloss: 0.222247\tvalid_1's amex_metric: 0.78324\n",
            "[7000]\ttraining's binary_logloss: 0.163539\ttraining's amex_metric: 0.89364\tvalid_1's binary_logloss: 0.222071\tvalid_1's amex_metric: 0.782802\n",
            "[7500]\ttraining's binary_logloss: 0.159092\ttraining's amex_metric: 0.901429\tvalid_1's binary_logloss: 0.221985\tvalid_1's amex_metric: 0.782845\n",
            "[8000]\ttraining's binary_logloss: 0.15512\ttraining's amex_metric: 0.908202\tvalid_1's binary_logloss: 0.221868\tvalid_1's amex_metric: 0.782585\n",
            "[8500]\ttraining's binary_logloss: 0.151708\ttraining's amex_metric: 0.914483\tvalid_1's binary_logloss: 0.221739\tvalid_1's amex_metric: 0.782741\n",
            "[9000]\ttraining's binary_logloss: 0.147848\ttraining's amex_metric: 0.92073\tvalid_1's binary_logloss: 0.221684\tvalid_1's amex_metric: 0.782737\n",
            "[9500]\ttraining's binary_logloss: 0.144329\ttraining's amex_metric: 0.92648\tvalid_1's binary_logloss: 0.221705\tvalid_1's amex_metric: 0.782516\n",
            "[10000]\ttraining's binary_logloss: 0.140866\ttraining's amex_metric: 0.932158\tvalid_1's binary_logloss: 0.221684\tvalid_1's amex_metric: 0.782125\n",
            "[10500]\ttraining's binary_logloss: 0.137864\ttraining's amex_metric: 0.936698\tvalid_1's binary_logloss: 0.221701\tvalid_1's amex_metric: 0.781684\n",
            "Our fold 1 CV score is 0.7816838772680932\n",
            " \n",
            "--------------------------------------------------\n",
            "Training fold 2 with 741 features...\n",
            "[500]\ttraining's binary_logloss: 0.341512\ttraining's amex_metric: 0.768287\tvalid_1's binary_logloss: 0.34484\tvalid_1's amex_metric: 0.757508\n",
            "[1000]\ttraining's binary_logloss: 0.251768\ttraining's amex_metric: 0.784646\tvalid_1's binary_logloss: 0.258957\tvalid_1's amex_metric: 0.768876\n",
            "[1500]\ttraining's binary_logloss: 0.228171\ttraining's amex_metric: 0.797883\tvalid_1's binary_logloss: 0.239006\tvalid_1's amex_metric: 0.776465\n",
            "[2000]\ttraining's binary_logloss: 0.215085\ttraining's amex_metric: 0.809876\tvalid_1's binary_logloss: 0.230281\tvalid_1's amex_metric: 0.77988\n",
            "[2500]\ttraining's binary_logloss: 0.208584\ttraining's amex_metric: 0.819533\tvalid_1's binary_logloss: 0.227494\tvalid_1's amex_metric: 0.781952\n",
            "[3000]\ttraining's binary_logloss: 0.202193\ttraining's amex_metric: 0.828415\tvalid_1's binary_logloss: 0.225255\tvalid_1's amex_metric: 0.78467\n",
            "[3500]\ttraining's binary_logloss: 0.19624\ttraining's amex_metric: 0.838003\tvalid_1's binary_logloss: 0.223715\tvalid_1's amex_metric: 0.785742\n",
            "[4000]\ttraining's binary_logloss: 0.191094\ttraining's amex_metric: 0.847228\tvalid_1's binary_logloss: 0.222851\tvalid_1's amex_metric: 0.787839\n",
            "[4500]\ttraining's binary_logloss: 0.186024\ttraining's amex_metric: 0.855702\tvalid_1's binary_logloss: 0.222227\tvalid_1's amex_metric: 0.7881\n",
            "[5000]\ttraining's binary_logloss: 0.181011\ttraining's amex_metric: 0.863621\tvalid_1's binary_logloss: 0.221662\tvalid_1's amex_metric: 0.788538\n",
            "[5500]\ttraining's binary_logloss: 0.176537\ttraining's amex_metric: 0.871361\tvalid_1's binary_logloss: 0.221405\tvalid_1's amex_metric: 0.788537\n",
            "[6000]\ttraining's binary_logloss: 0.172718\ttraining's amex_metric: 0.879036\tvalid_1's binary_logloss: 0.221218\tvalid_1's amex_metric: 0.788555\n",
            "[6500]\ttraining's binary_logloss: 0.168646\ttraining's amex_metric: 0.885409\tvalid_1's binary_logloss: 0.220982\tvalid_1's amex_metric: 0.789207\n",
            "[7000]\ttraining's binary_logloss: 0.163941\ttraining's amex_metric: 0.893067\tvalid_1's binary_logloss: 0.22074\tvalid_1's amex_metric: 0.788634\n",
            "[7500]\ttraining's binary_logloss: 0.159441\ttraining's amex_metric: 0.900716\tvalid_1's binary_logloss: 0.220524\tvalid_1's amex_metric: 0.789388\n",
            "[8000]\ttraining's binary_logloss: 0.155446\ttraining's amex_metric: 0.907497\tvalid_1's binary_logloss: 0.220396\tvalid_1's amex_metric: 0.788941\n",
            "[8500]\ttraining's binary_logloss: 0.152014\ttraining's amex_metric: 0.914196\tvalid_1's binary_logloss: 0.220343\tvalid_1's amex_metric: 0.78917\n",
            "[9000]\ttraining's binary_logloss: 0.148101\ttraining's amex_metric: 0.920378\tvalid_1's binary_logloss: 0.22028\tvalid_1's amex_metric: 0.789561\n",
            "[9500]\ttraining's binary_logloss: 0.144619\ttraining's amex_metric: 0.926471\tvalid_1's binary_logloss: 0.220224\tvalid_1's amex_metric: 0.789578\n",
            "[10000]\ttraining's binary_logloss: 0.141179\ttraining's amex_metric: 0.932159\tvalid_1's binary_logloss: 0.22021\tvalid_1's amex_metric: 0.789161\n",
            "[10500]\ttraining's binary_logloss: 0.138172\ttraining's amex_metric: 0.936626\tvalid_1's binary_logloss: 0.220211\tvalid_1's amex_metric: 0.789201\n",
            "Our fold 2 CV score is 0.7892012771191541\n",
            " \n",
            "--------------------------------------------------\n",
            "Training fold 3 with 741 features...\n",
            "[500]\ttraining's binary_logloss: 0.341266\ttraining's amex_metric: 0.76908\tvalid_1's binary_logloss: 0.345754\tvalid_1's amex_metric: 0.751549\n",
            "[1000]\ttraining's binary_logloss: 0.251475\ttraining's amex_metric: 0.786024\tvalid_1's binary_logloss: 0.26026\tvalid_1's amex_metric: 0.763357\n",
            "[1500]\ttraining's binary_logloss: 0.227821\ttraining's amex_metric: 0.79889\tvalid_1's binary_logloss: 0.240362\tvalid_1's amex_metric: 0.771605\n",
            "[2000]\ttraining's binary_logloss: 0.214713\ttraining's amex_metric: 0.811026\tvalid_1's binary_logloss: 0.231788\tvalid_1's amex_metric: 0.775427\n",
            "[2500]\ttraining's binary_logloss: 0.208221\ttraining's amex_metric: 0.819998\tvalid_1's binary_logloss: 0.229052\tvalid_1's amex_metric: 0.77894\n",
            "[3000]\ttraining's binary_logloss: 0.201834\ttraining's amex_metric: 0.828901\tvalid_1's binary_logloss: 0.22691\tvalid_1's amex_metric: 0.780057\n",
            "[3500]\ttraining's binary_logloss: 0.19594\ttraining's amex_metric: 0.837997\tvalid_1's binary_logloss: 0.225445\tvalid_1's amex_metric: 0.780876\n",
            "[4000]\ttraining's binary_logloss: 0.19076\ttraining's amex_metric: 0.846678\tvalid_1's binary_logloss: 0.224491\tvalid_1's amex_metric: 0.781903\n",
            "[4500]\ttraining's binary_logloss: 0.185689\ttraining's amex_metric: 0.855224\tvalid_1's binary_logloss: 0.2238\tvalid_1's amex_metric: 0.783146\n",
            "[5000]\ttraining's binary_logloss: 0.180689\ttraining's amex_metric: 0.863778\tvalid_1's binary_logloss: 0.223311\tvalid_1's amex_metric: 0.784111\n",
            "[5500]\ttraining's binary_logloss: 0.176212\ttraining's amex_metric: 0.871373\tvalid_1's binary_logloss: 0.22296\tvalid_1's amex_metric: 0.783982\n",
            "[6000]\ttraining's binary_logloss: 0.172365\ttraining's amex_metric: 0.878809\tvalid_1's binary_logloss: 0.222742\tvalid_1's amex_metric: 0.784544\n",
            "[6500]\ttraining's binary_logloss: 0.16832\ttraining's amex_metric: 0.885482\tvalid_1's binary_logloss: 0.222491\tvalid_1's amex_metric: 0.7844\n",
            "[7000]\ttraining's binary_logloss: 0.163606\ttraining's amex_metric: 0.892842\tvalid_1's binary_logloss: 0.222277\tvalid_1's amex_metric: 0.784012\n",
            "[7500]\ttraining's binary_logloss: 0.159166\ttraining's amex_metric: 0.900568\tvalid_1's binary_logloss: 0.2221\tvalid_1's amex_metric: 0.785009\n",
            "[8000]\ttraining's binary_logloss: 0.155169\ttraining's amex_metric: 0.907371\tvalid_1's binary_logloss: 0.222019\tvalid_1's amex_metric: 0.784418\n",
            "[8500]\ttraining's binary_logloss: 0.151723\ttraining's amex_metric: 0.913691\tvalid_1's binary_logloss: 0.22191\tvalid_1's amex_metric: 0.784945\n",
            "[9000]\ttraining's binary_logloss: 0.147827\ttraining's amex_metric: 0.920327\tvalid_1's binary_logloss: 0.221813\tvalid_1's amex_metric: 0.784987\n",
            "[9500]\ttraining's binary_logloss: 0.144336\ttraining's amex_metric: 0.926074\tvalid_1's binary_logloss: 0.221793\tvalid_1's amex_metric: 0.78518\n",
            "[10000]\ttraining's binary_logloss: 0.140883\ttraining's amex_metric: 0.93161\tvalid_1's binary_logloss: 0.221705\tvalid_1's amex_metric: 0.785592\n",
            "[10500]\ttraining's binary_logloss: 0.137858\ttraining's amex_metric: 0.936702\tvalid_1's binary_logloss: 0.221745\tvalid_1's amex_metric: 0.785408\n",
            "Our fold 3 CV score is 0.7854078949829146\n",
            " \n",
            "--------------------------------------------------\n",
            "Training fold 4 with 741 features...\n",
            "[500]\ttraining's binary_logloss: 0.341659\ttraining's amex_metric: 0.768219\tvalid_1's binary_logloss: 0.344619\tvalid_1's amex_metric: 0.758526\n",
            "[1000]\ttraining's binary_logloss: 0.25204\ttraining's amex_metric: 0.784698\tvalid_1's binary_logloss: 0.25837\tvalid_1's amex_metric: 0.76837\n",
            "[1500]\ttraining's binary_logloss: 0.228435\ttraining's amex_metric: 0.79849\tvalid_1's binary_logloss: 0.238179\tvalid_1's amex_metric: 0.774196\n",
            "[2000]\ttraining's binary_logloss: 0.215376\ttraining's amex_metric: 0.810088\tvalid_1's binary_logloss: 0.229292\tvalid_1's amex_metric: 0.779226\n",
            "[2500]\ttraining's binary_logloss: 0.208934\ttraining's amex_metric: 0.819171\tvalid_1's binary_logloss: 0.226405\tvalid_1's amex_metric: 0.781899\n",
            "[3000]\ttraining's binary_logloss: 0.202508\ttraining's amex_metric: 0.828092\tvalid_1's binary_logloss: 0.224128\tvalid_1's amex_metric: 0.783858\n",
            "[3500]\ttraining's binary_logloss: 0.196634\ttraining's amex_metric: 0.83756\tvalid_1's binary_logloss: 0.222688\tvalid_1's amex_metric: 0.784612\n",
            "[4000]\ttraining's binary_logloss: 0.191397\ttraining's amex_metric: 0.846433\tvalid_1's binary_logloss: 0.221808\tvalid_1's amex_metric: 0.785457\n",
            "[4500]\ttraining's binary_logloss: 0.186342\ttraining's amex_metric: 0.855153\tvalid_1's binary_logloss: 0.221121\tvalid_1's amex_metric: 0.786587\n",
            "[5000]\ttraining's binary_logloss: 0.181329\ttraining's amex_metric: 0.863485\tvalid_1's binary_logloss: 0.220642\tvalid_1's amex_metric: 0.786452\n",
            "[5500]\ttraining's binary_logloss: 0.176868\ttraining's amex_metric: 0.871138\tvalid_1's binary_logloss: 0.220304\tvalid_1's amex_metric: 0.786516\n",
            "[6000]\ttraining's binary_logloss: 0.172991\ttraining's amex_metric: 0.878316\tvalid_1's binary_logloss: 0.220148\tvalid_1's amex_metric: 0.787654\n",
            "[6500]\ttraining's binary_logloss: 0.168884\ttraining's amex_metric: 0.885213\tvalid_1's binary_logloss: 0.219841\tvalid_1's amex_metric: 0.787477\n",
            "[7000]\ttraining's binary_logloss: 0.164197\ttraining's amex_metric: 0.893097\tvalid_1's binary_logloss: 0.219589\tvalid_1's amex_metric: 0.786261\n",
            "[7500]\ttraining's binary_logloss: 0.159713\ttraining's amex_metric: 0.900642\tvalid_1's binary_logloss: 0.219417\tvalid_1's amex_metric: 0.786291\n",
            "[8000]\ttraining's binary_logloss: 0.155741\ttraining's amex_metric: 0.907637\tvalid_1's binary_logloss: 0.219316\tvalid_1's amex_metric: 0.786417\n",
            "[8500]\ttraining's binary_logloss: 0.152307\ttraining's amex_metric: 0.913553\tvalid_1's binary_logloss: 0.219228\tvalid_1's amex_metric: 0.787375\n",
            "[9000]\ttraining's binary_logloss: 0.148426\ttraining's amex_metric: 0.919969\tvalid_1's binary_logloss: 0.21911\tvalid_1's amex_metric: 0.787401\n",
            "[9500]\ttraining's binary_logloss: 0.144928\ttraining's amex_metric: 0.925232\tvalid_1's binary_logloss: 0.219032\tvalid_1's amex_metric: 0.787608\n",
            "[10000]\ttraining's binary_logloss: 0.141455\ttraining's amex_metric: 0.930951\tvalid_1's binary_logloss: 0.219041\tvalid_1's amex_metric: 0.787641\n",
            "[10500]\ttraining's binary_logloss: 0.138424\ttraining's amex_metric: 0.936167\tvalid_1's binary_logloss: 0.219038\tvalid_1's amex_metric: 0.788817\n",
            "Our fold 4 CV score is 0.7888168455247232\n",
            "Our out of folds CV score is 0.7879686529272476\n",
            "Finished!\n"
          ]
        }
      ],
      "source": [
        "# ====================================================\n",
        "# Library\n",
        "# ====================================================\n",
        "import os\n",
        "import gc\n",
        "import warnings\n",
        "warnings.filterwarnings('ignore')\n",
        "import random\n",
        "import scipy as sp\n",
        "import numpy as np\n",
        "import pandas as pd\n",
        "import joblib\n",
        "import itertools\n",
        "pd.set_option('display.max_rows', 500)\n",
        "pd.set_option('display.max_columns', 500)\n",
        "pd.set_option('display.width', 1000)\n",
        "from tqdm.auto import tqdm\n",
        "from sklearn.model_selection import StratifiedKFold, train_test_split\n",
        "from sklearn.preprocessing import LabelEncoder\n",
        "import lightgbm as lgb\n",
        "from itertools import combinations\n",
        "\n",
        "# ====================================================\n",
        "# Configurations\n",
        "# ====================================================\n",
        "class CFG:\n",
        "    input_dir = '/content/'\n",
        "    seed = 42\n",
        "    n_folds = 5\n",
        "    target = 'target'\n",
        "    boosting_type = 'dart'\n",
        "    metric = 'binary_logloss'\n",
        "\n",
        "# ====================================================\n",
        "# Seed everything\n",
        "# ====================================================\n",
        "def seed_everything(seed):\n",
        "    random.seed(seed)\n",
        "    np.random.seed(seed)\n",
        "    os.environ['PYTHONHASHSEED'] = str(seed)\n",
        "\n",
        "# ====================================================\n",
        "# Read data\n",
        "# ====================================================\n",
        "def read_data():\n",
        "    train_lag13 = pd.read_parquet(\n",
        "        CFG.input_dir + 'train_data_fe.parquet').groupby(\n",
        "            'target', group_keys=False).apply(lambda x: x.sample(frac=0.8))    \n",
        "    train_lag6 = pd.read_parquet(\n",
        "        CFG.input_dir + 'train_data_fe.parquet').groupby(\n",
        "            'target', group_keys=False).apply(lambda x: x.sample(frac=0.3))    \n",
        "    train = pd.concat([train_lag13, train_lag6])\n",
        "    train.reset_index(inplace=True)\n",
        "    test = pd.read_parquet(CFG.input_dir + 'test_data_fe.parquet')\n",
        "    return train, test\n",
        "\n",
        "# ====================================================\n",
        "# Amex metric\n",
        "# ====================================================\n",
        "def amex_metric(y_true, y_pred):\n",
        "    labels = np.transpose(np.array([y_true, y_pred]))\n",
        "    labels = labels[labels[:, 1].argsort()[::-1]]\n",
        "    weights = np.where(labels[:,0]==0, 20, 1)\n",
        "    cut_vals = labels[np.cumsum(weights) <= int(0.04 * np.sum(weights))]\n",
        "    top_four = np.sum(cut_vals[:,0]) / np.sum(labels[:,0])\n",
        "    gini = [0,0]\n",
        "    for i in [1,0]:\n",
        "        labels = np.transpose(np.array([y_true, y_pred]))\n",
        "        labels = labels[labels[:, i].argsort()[::-1]]\n",
        "        weight = np.where(labels[:,0]==0, 20, 1)\n",
        "        weight_random = np.cumsum(weight / np.sum(weight))\n",
        "        total_pos = np.sum(labels[:, 0] *  weight)\n",
        "        cum_pos_found = np.cumsum(labels[:, 0] * weight)\n",
        "        lorentz = cum_pos_found / total_pos\n",
        "        gini[i] = np.sum((lorentz - weight_random) * weight)\n",
        "    return 0.5 * (gini[1]/gini[0] + top_four)\n",
        "\n",
        "# ====================================================\n",
        "# LGBM amex metric\n",
        "# ====================================================\n",
        "def lgb_amex_metric(y_pred, y_true):\n",
        "    y_true = y_true.get_label()\n",
        "    return 'amex_metric', amex_metric(y_true, y_pred), True\n",
        "\n",
        "# ====================================================\n",
        "# Train & Evaluate\n",
        "# ====================================================\n",
        "def train_and_evaluate(train, test):\n",
        "    # Label encode categorical features\n",
        "    cat_features = [\n",
        "        \"B_30\",\n",
        "        \"B_38\",\n",
        "        \"D_114\",\n",
        "        \"D_116\",\n",
        "        \"D_117\",\n",
        "        \"D_120\",\n",
        "        \"D_126\",\n",
        "        \"D_63\",\n",
        "        \"D_64\",\n",
        "        \"D_66\",\n",
        "        \"D_68\"\n",
        "    ]\n",
        "    cat_features = [f\"{cf}_last\" for cf in cat_features]\n",
        "    for cat_col in cat_features:\n",
        "        encoder = LabelEncoder()\n",
        "        train[cat_col] = encoder.fit_transform(train[cat_col])\n",
        "        test[cat_col] = encoder.transform(test[cat_col])\n",
        "    # Round last float features to 2 decimal place\n",
        "    num_cols = list(train.dtypes[(train.dtypes == 'float32') | (train.dtypes == 'float64')].index)\n",
        "    num_cols = [col for col in num_cols if 'last' in col]\n",
        "    for col in num_cols:\n",
        "        train[col + '_round2'] = train[col].round(2)\n",
        "        test[col + '_round2'] = test[col].round(2)\n",
        "    # Get the difference between last and mean\n",
        "    num_cols = [col for col in train.columns if 'last' in col]\n",
        "    num_cols = [col[:-5] for col in num_cols if 'round' not in col]\n",
        "    for col in num_cols:\n",
        "        try:\n",
        "            train[f'{col}_last_mean_diff'] = train[f'{col}_last'] - train[f'{col}_mean']\n",
        "            test[f'{col}_last_mean_diff'] = test[f'{col}_last'] - test[f'{col}_mean']\n",
        "        except:\n",
        "            pass\n",
        "    # Transform float64 and float32 to float16\n",
        "    num_cols = list(train.dtypes[(train.dtypes == 'float32') | (train.dtypes == 'float64')].index)\n",
        "    for col in tqdm(num_cols):\n",
        "        train[col] = train[col].astype(np.float16)\n",
        "        test[col] = test[col].astype(np.float16)\n",
        "    # Get feature list\n",
        "    features = [col for col in train.columns if col not in ['customer_ID', CFG.target]]\n",
        "    params = {\n",
        "        'objective': 'binary',\n",
        "        'metric': CFG.metric,\n",
        "        'boosting': CFG.boosting_type,\n",
        "        'seed': CFG.seed,\n",
        "        'num_leaves': 100,\n",
        "        'learning_rate': 0.01,\n",
        "        'feature_fraction': 0.20,\n",
        "        'bagging_freq': 10,\n",
        "        'bagging_fraction': 0.50,\n",
        "        'n_jobs': -1,\n",
        "        'lambda_l2': 2,\n",
        "        'min_data_in_leaf': 40,\n",
        "        }\n",
        "    # Create a numpy array to store test predictions\n",
        "    test_predictions = np.zeros(len(test))\n",
        "    # Create a numpy array to store out of folds predictions\n",
        "    oof_predictions = np.zeros(len(train))\n",
        "    kfold = StratifiedKFold(n_splits = CFG.n_folds, shuffle = True, random_state = CFG.seed)\n",
        "    for fold, (trn_ind, val_ind) in enumerate(kfold.split(train, train[CFG.target])):\n",
        "        print(' ')\n",
        "        print('-'*50)\n",
        "        print(f'Training fold {fold} with {len(features)} features...')\n",
        "        x_train, x_val = train[features].iloc[trn_ind], train[features].iloc[val_ind]\n",
        "        y_train, y_val = train[CFG.target].iloc[trn_ind], train[CFG.target].iloc[val_ind]\n",
        "        lgb_train = lgb.Dataset(x_train, y_train, categorical_feature = cat_features)\n",
        "        lgb_valid = lgb.Dataset(x_val, y_val, categorical_feature = cat_features)\n",
        "        model = lgb.train(\n",
        "            params = params,\n",
        "            train_set = lgb_train,\n",
        "            num_boost_round = 10500,\n",
        "            valid_sets = [lgb_train, lgb_valid],\n",
        "            early_stopping_rounds = 1500,\n",
        "            verbose_eval = 500,\n",
        "            feval = lgb_amex_metric\n",
        "            )\n",
        "        \n",
        "        # Save best model\n",
        "        joblib.dump(model, f'/content/drive/MyDrive/amex/Models/lgbm_{CFG.boosting_type}_fold{fold}_seed{CFG.seed}.pkl')\n",
        "        # Predict validation\n",
        "        val_pred = model.predict(x_val)\n",
        "        # Add to out of folds array\n",
        "        oof_predictions[val_ind] = val_pred\n",
        "        # Predict the test set\n",
        "        test_pred = model.predict(test[features])\n",
        "        test_predictions += test_pred / CFG.n_folds\n",
        "        # Compute fold metric\n",
        "        score = amex_metric(y_val, val_pred)\n",
        "        print(f'Our fold {fold} CV score is {score}')\n",
        "        del x_train, x_val, y_train, y_val, lgb_train, lgb_valid\n",
        "        gc.collect()\n",
        "    # Compute out of folds metric\n",
        "    score = amex_metric(train[CFG.target], oof_predictions)\n",
        "    print(f'Our out of folds CV score is {score}')\n",
        "    # Create a dataframe to store out of folds predictions\n",
        "    oof_df = pd.DataFrame({'customer_ID': train['customer_ID'], 'target': train[CFG.target], 'prediction': oof_predictions})\n",
        "    oof_df.to_csv(f'/content/drive/MyDrive/amex/OOF/oof_lgbm_{CFG.boosting_type}_baseline_{CFG.n_folds}fold_seed{CFG.seed}.csv', index = False)\n",
        "    # Create a dataframe to store test prediction\n",
        "    test_df = pd.DataFrame({'customer_ID': test['customer_ID'], 'prediction': test_predictions})\n",
        "    test_df.to_csv(f'/content/drive/MyDrive/amex/Predictions/test_lgbm_{CFG.boosting_type}_baseline_{CFG.n_folds}fold_seed{CFG.seed}.csv', index = False)\n",
        "    print('Finished!')\n",
        "    \n",
        "seed_everything(CFG.seed)\n",
        "train, test = read_data()\n",
        "train_and_evaluate(train, test)"
      ]
    },
    {
      "cell_type": "markdown",
      "metadata": {
        "id": "fxfG_GVrQ2pi"
      },
      "source": [
        "# Submit\n"
      ]
    },
    {
      "cell_type": "code",
      "execution_count": null,
      "metadata": {
        "id": "V0VuTsQgQ6CD"
      },
      "outputs": [],
      "source": [
        "sub = pd.read_csv('../input/amex-sub/test_lgbm_baseline_5fold_seed_blend.csv')\n",
        "sub.to_csv('test_lgbm_baseline_5fold_seed_blend.csv', index = False)"
      ]
    },
    {
      "cell_type": "code",
      "source": [
        "!kaggle competitions submit -c amex-default-prediction -f /content/drive/MyDrive/amex/Predictions/test_lgbm_dart_baseline_5fold_seed42_3monthlag.csv -m 3mth_lag"
      ],
      "metadata": {
        "id": "vRHJvPKZDHVA",
        "colab": {
          "base_uri": "https://localhost:8080/"
        },
        "outputId": "9a8ce470-2eea-4604-b4be-0b120046a523"
      },
      "execution_count": 15,
      "outputs": [
        {
          "output_type": "stream",
          "name": "stdout",
          "text": [
            "100% 75.2M/75.2M [00:02<00:00, 28.2MB/s]\n",
            "Successfully submitted to American Express - Default Prediction"
          ]
        }
      ]
    },
    {
      "cell_type": "code",
      "source": [
        ""
      ],
      "metadata": {
        "id": "ZljG1nBd-UWM"
      },
      "execution_count": null,
      "outputs": []
    }
  ],
  "metadata": {
    "accelerator": "TPU",
    "colab": {
      "collapsed_sections": [],
      "machine_shape": "hm",
      "name": "AMEX | EDA | NNB.ipynb",
      "provenance": [],
      "mount_file_id": "https://github.com/nguyenngocbinh/amex/blob/master/AMEX_%7C_EDA_%7C_NNB.ipynb",
      "authorship_tag": "ABX9TyMQ3oYvswYoxpFQ3zr9W7+g",
      "include_colab_link": true
    },
    "gpuClass": "standard",
    "kernelspec": {
      "display_name": "Python 3",
      "name": "python3"
    },
    "language_info": {
      "name": "python"
    },
    "widgets": {
      "application/vnd.jupyter.widget-state+json": {
        "f24195b97d1344e7acfde1abce8b1463": {
          "model_module": "@jupyter-widgets/controls",
          "model_name": "HBoxModel",
          "model_module_version": "1.5.0",
          "state": {
            "_dom_classes": [],
            "_model_module": "@jupyter-widgets/controls",
            "_model_module_version": "1.5.0",
            "_model_name": "HBoxModel",
            "_view_count": null,
            "_view_module": "@jupyter-widgets/controls",
            "_view_module_version": "1.5.0",
            "_view_name": "HBoxView",
            "box_style": "",
            "children": [
              "IPY_MODEL_0494313d1e174fc5a2acb7c304416d26",
              "IPY_MODEL_aa956a15d2f64e579b8e18fefef638cc",
              "IPY_MODEL_c735a2d6ec5c4d2f87ab4e6b1456c22d"
            ],
            "layout": "IPY_MODEL_84d21a855db4454eade95c74a14d65b2"
          }
        },
        "0494313d1e174fc5a2acb7c304416d26": {
          "model_module": "@jupyter-widgets/controls",
          "model_name": "HTMLModel",
          "model_module_version": "1.5.0",
          "state": {
            "_dom_classes": [],
            "_model_module": "@jupyter-widgets/controls",
            "_model_module_version": "1.5.0",
            "_model_name": "HTMLModel",
            "_view_count": null,
            "_view_module": "@jupyter-widgets/controls",
            "_view_module_version": "1.5.0",
            "_view_name": "HTMLView",
            "description": "",
            "description_tooltip": null,
            "layout": "IPY_MODEL_5e6e24bcc9f444968d9ff7134f5a860a",
            "placeholder": "​",
            "style": "IPY_MODEL_4f36100995dd4e76ace2aa588207013b",
            "value": "100%"
          }
        },
        "aa956a15d2f64e579b8e18fefef638cc": {
          "model_module": "@jupyter-widgets/controls",
          "model_name": "FloatProgressModel",
          "model_module_version": "1.5.0",
          "state": {
            "_dom_classes": [],
            "_model_module": "@jupyter-widgets/controls",
            "_model_module_version": "1.5.0",
            "_model_name": "FloatProgressModel",
            "_view_count": null,
            "_view_module": "@jupyter-widgets/controls",
            "_view_module_version": "1.5.0",
            "_view_name": "ProgressView",
            "bar_style": "success",
            "description": "",
            "description_tooltip": null,
            "layout": "IPY_MODEL_0482fbc91b314be9951ce12aacac4ed2",
            "max": 540,
            "min": 0,
            "orientation": "horizontal",
            "style": "IPY_MODEL_f7f2acd8e5ba46f39ebb8da9e07caf99",
            "value": 540
          }
        },
        "c735a2d6ec5c4d2f87ab4e6b1456c22d": {
          "model_module": "@jupyter-widgets/controls",
          "model_name": "HTMLModel",
          "model_module_version": "1.5.0",
          "state": {
            "_dom_classes": [],
            "_model_module": "@jupyter-widgets/controls",
            "_model_module_version": "1.5.0",
            "_model_name": "HTMLModel",
            "_view_count": null,
            "_view_module": "@jupyter-widgets/controls",
            "_view_module_version": "1.5.0",
            "_view_name": "HTMLView",
            "description": "",
            "description_tooltip": null,
            "layout": "IPY_MODEL_2143e13a144c4bec9c4e9b0d0e24c263",
            "placeholder": "​",
            "style": "IPY_MODEL_ee0e414a8ea64369b4814ae1859875ab",
            "value": " 540/540 [03:03&lt;00:00, 36.36it/s]"
          }
        },
        "84d21a855db4454eade95c74a14d65b2": {
          "model_module": "@jupyter-widgets/base",
          "model_name": "LayoutModel",
          "model_module_version": "1.2.0",
          "state": {
            "_model_module": "@jupyter-widgets/base",
            "_model_module_version": "1.2.0",
            "_model_name": "LayoutModel",
            "_view_count": null,
            "_view_module": "@jupyter-widgets/base",
            "_view_module_version": "1.2.0",
            "_view_name": "LayoutView",
            "align_content": null,
            "align_items": null,
            "align_self": null,
            "border": null,
            "bottom": null,
            "display": null,
            "flex": null,
            "flex_flow": null,
            "grid_area": null,
            "grid_auto_columns": null,
            "grid_auto_flow": null,
            "grid_auto_rows": null,
            "grid_column": null,
            "grid_gap": null,
            "grid_row": null,
            "grid_template_areas": null,
            "grid_template_columns": null,
            "grid_template_rows": null,
            "height": null,
            "justify_content": null,
            "justify_items": null,
            "left": null,
            "margin": null,
            "max_height": null,
            "max_width": null,
            "min_height": null,
            "min_width": null,
            "object_fit": null,
            "object_position": null,
            "order": null,
            "overflow": null,
            "overflow_x": null,
            "overflow_y": null,
            "padding": null,
            "right": null,
            "top": null,
            "visibility": null,
            "width": null
          }
        },
        "5e6e24bcc9f444968d9ff7134f5a860a": {
          "model_module": "@jupyter-widgets/base",
          "model_name": "LayoutModel",
          "model_module_version": "1.2.0",
          "state": {
            "_model_module": "@jupyter-widgets/base",
            "_model_module_version": "1.2.0",
            "_model_name": "LayoutModel",
            "_view_count": null,
            "_view_module": "@jupyter-widgets/base",
            "_view_module_version": "1.2.0",
            "_view_name": "LayoutView",
            "align_content": null,
            "align_items": null,
            "align_self": null,
            "border": null,
            "bottom": null,
            "display": null,
            "flex": null,
            "flex_flow": null,
            "grid_area": null,
            "grid_auto_columns": null,
            "grid_auto_flow": null,
            "grid_auto_rows": null,
            "grid_column": null,
            "grid_gap": null,
            "grid_row": null,
            "grid_template_areas": null,
            "grid_template_columns": null,
            "grid_template_rows": null,
            "height": null,
            "justify_content": null,
            "justify_items": null,
            "left": null,
            "margin": null,
            "max_height": null,
            "max_width": null,
            "min_height": null,
            "min_width": null,
            "object_fit": null,
            "object_position": null,
            "order": null,
            "overflow": null,
            "overflow_x": null,
            "overflow_y": null,
            "padding": null,
            "right": null,
            "top": null,
            "visibility": null,
            "width": null
          }
        },
        "4f36100995dd4e76ace2aa588207013b": {
          "model_module": "@jupyter-widgets/controls",
          "model_name": "DescriptionStyleModel",
          "model_module_version": "1.5.0",
          "state": {
            "_model_module": "@jupyter-widgets/controls",
            "_model_module_version": "1.5.0",
            "_model_name": "DescriptionStyleModel",
            "_view_count": null,
            "_view_module": "@jupyter-widgets/base",
            "_view_module_version": "1.2.0",
            "_view_name": "StyleView",
            "description_width": ""
          }
        },
        "0482fbc91b314be9951ce12aacac4ed2": {
          "model_module": "@jupyter-widgets/base",
          "model_name": "LayoutModel",
          "model_module_version": "1.2.0",
          "state": {
            "_model_module": "@jupyter-widgets/base",
            "_model_module_version": "1.2.0",
            "_model_name": "LayoutModel",
            "_view_count": null,
            "_view_module": "@jupyter-widgets/base",
            "_view_module_version": "1.2.0",
            "_view_name": "LayoutView",
            "align_content": null,
            "align_items": null,
            "align_self": null,
            "border": null,
            "bottom": null,
            "display": null,
            "flex": null,
            "flex_flow": null,
            "grid_area": null,
            "grid_auto_columns": null,
            "grid_auto_flow": null,
            "grid_auto_rows": null,
            "grid_column": null,
            "grid_gap": null,
            "grid_row": null,
            "grid_template_areas": null,
            "grid_template_columns": null,
            "grid_template_rows": null,
            "height": null,
            "justify_content": null,
            "justify_items": null,
            "left": null,
            "margin": null,
            "max_height": null,
            "max_width": null,
            "min_height": null,
            "min_width": null,
            "object_fit": null,
            "object_position": null,
            "order": null,
            "overflow": null,
            "overflow_x": null,
            "overflow_y": null,
            "padding": null,
            "right": null,
            "top": null,
            "visibility": null,
            "width": null
          }
        },
        "f7f2acd8e5ba46f39ebb8da9e07caf99": {
          "model_module": "@jupyter-widgets/controls",
          "model_name": "ProgressStyleModel",
          "model_module_version": "1.5.0",
          "state": {
            "_model_module": "@jupyter-widgets/controls",
            "_model_module_version": "1.5.0",
            "_model_name": "ProgressStyleModel",
            "_view_count": null,
            "_view_module": "@jupyter-widgets/base",
            "_view_module_version": "1.2.0",
            "_view_name": "StyleView",
            "bar_color": null,
            "description_width": ""
          }
        },
        "2143e13a144c4bec9c4e9b0d0e24c263": {
          "model_module": "@jupyter-widgets/base",
          "model_name": "LayoutModel",
          "model_module_version": "1.2.0",
          "state": {
            "_model_module": "@jupyter-widgets/base",
            "_model_module_version": "1.2.0",
            "_model_name": "LayoutModel",
            "_view_count": null,
            "_view_module": "@jupyter-widgets/base",
            "_view_module_version": "1.2.0",
            "_view_name": "LayoutView",
            "align_content": null,
            "align_items": null,
            "align_self": null,
            "border": null,
            "bottom": null,
            "display": null,
            "flex": null,
            "flex_flow": null,
            "grid_area": null,
            "grid_auto_columns": null,
            "grid_auto_flow": null,
            "grid_auto_rows": null,
            "grid_column": null,
            "grid_gap": null,
            "grid_row": null,
            "grid_template_areas": null,
            "grid_template_columns": null,
            "grid_template_rows": null,
            "height": null,
            "justify_content": null,
            "justify_items": null,
            "left": null,
            "margin": null,
            "max_height": null,
            "max_width": null,
            "min_height": null,
            "min_width": null,
            "object_fit": null,
            "object_position": null,
            "order": null,
            "overflow": null,
            "overflow_x": null,
            "overflow_y": null,
            "padding": null,
            "right": null,
            "top": null,
            "visibility": null,
            "width": null
          }
        },
        "ee0e414a8ea64369b4814ae1859875ab": {
          "model_module": "@jupyter-widgets/controls",
          "model_name": "DescriptionStyleModel",
          "model_module_version": "1.5.0",
          "state": {
            "_model_module": "@jupyter-widgets/controls",
            "_model_module_version": "1.5.0",
            "_model_name": "DescriptionStyleModel",
            "_view_count": null,
            "_view_module": "@jupyter-widgets/base",
            "_view_module_version": "1.2.0",
            "_view_name": "StyleView",
            "description_width": ""
          }
        }
      }
    }
  },
  "nbformat": 4,
  "nbformat_minor": 0
}