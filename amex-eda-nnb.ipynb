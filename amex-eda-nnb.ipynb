{
 "cells": [
  {
   "cell_type": "code",
   "execution_count": 1,
   "id": "e5bfdd91",
   "metadata": {
    "_cell_guid": "b1076dfc-b9ad-4769-8c92-a6c4dae69d19",
    "_uuid": "8f2839f25d086af736a60e9eeb907d3b93b6e0e5",
    "execution": {
     "iopub.execute_input": "2022-07-15T10:40:54.217030Z",
     "iopub.status.busy": "2022-07-15T10:40:54.216540Z",
     "iopub.status.idle": "2022-07-15T10:40:54.233991Z",
     "shell.execute_reply": "2022-07-15T10:40:54.233226Z"
    },
    "papermill": {
     "duration": 0.027349,
     "end_time": "2022-07-15T10:40:54.237441",
     "exception": false,
     "start_time": "2022-07-15T10:40:54.210092",
     "status": "completed"
    },
    "tags": []
   },
   "outputs": [
    {
     "name": "stdout",
     "output_type": "stream",
     "text": [
      "/kaggle/input/amex-default-prediction/sample_submission.csv\n",
      "/kaggle/input/amex-default-prediction/train_data.csv\n",
      "/kaggle/input/amex-default-prediction/test_data.csv\n",
      "/kaggle/input/amex-default-prediction/train_labels.csv\n",
      "/kaggle/input/amex-data-integer-dtypes-parquet-format/train.parquet\n",
      "/kaggle/input/amex-data-integer-dtypes-parquet-format/test.parquet\n"
     ]
    }
   ],
   "source": [
    "# This Python 3 environment comes with many helpful analytics libraries installed\n",
    "# It is defined by the kaggle/python Docker image: https://github.com/kaggle/docker-python\n",
    "# For example, here's several helpful packages to load\n",
    "\n",
    "import numpy as np # linear algebra\n",
    "import pandas as pd # data processing, CSV file I/O (e.g. pd.read_csv)\n",
    "\n",
    "# Input data files are available in the read-only \"../input/\" directory\n",
    "# For example, running this (by clicking run or pressing Shift+Enter) will list all files under the input directory\n",
    "\n",
    "import os\n",
    "for dirname, _, filenames in os.walk('/kaggle/input'):\n",
    "    for filename in filenames:\n",
    "        print(os.path.join(dirname, filename))\n",
    "\n",
    "# You can write up to 20GB to the current directory (/kaggle/working/) that gets preserved as output when you create a version using \"Save & Run All\" \n",
    "# You can also write temporary files to /kaggle/temp/, but they won't be saved outside of the current session"
   ]
  },
  {
   "cell_type": "markdown",
   "id": "3569bfb7",
   "metadata": {
    "papermill": {
     "duration": 0.003114,
     "end_time": "2022-07-15T10:40:54.244397",
     "exception": false,
     "start_time": "2022-07-15T10:40:54.241283",
     "status": "completed"
    },
    "tags": []
   },
   "source": [
    "# Preprocessing"
   ]
  },
  {
   "cell_type": "code",
   "execution_count": 2,
   "id": "7d292ee5",
   "metadata": {
    "execution": {
     "iopub.execute_input": "2022-07-15T10:40:54.253539Z",
     "iopub.status.busy": "2022-07-15T10:40:54.252468Z",
     "iopub.status.idle": "2022-07-15T10:40:54.400085Z",
     "shell.execute_reply": "2022-07-15T10:40:54.399025Z"
    },
    "papermill": {
     "duration": 0.154806,
     "end_time": "2022-07-15T10:40:54.402610",
     "exception": false,
     "start_time": "2022-07-15T10:40:54.247804",
     "status": "completed"
    },
    "tags": []
   },
   "outputs": [],
   "source": [
    "# ====================================================\n",
    "# Library\n",
    "# ====================================================\n",
    "import gc\n",
    "import warnings\n",
    "warnings.filterwarnings('ignore')\n",
    "import scipy as sp\n",
    "import numpy as np\n",
    "import pandas as pd\n",
    "pd.set_option('display.max_rows', 500)\n",
    "pd.set_option('display.max_columns', 500)\n",
    "pd.set_option('display.width', 1000)\n",
    "from tqdm.auto import tqdm\n",
    "import itertools"
   ]
  },
  {
   "cell_type": "code",
   "execution_count": 3,
   "id": "4e99e1e5",
   "metadata": {
    "execution": {
     "iopub.execute_input": "2022-07-15T10:40:54.409595Z",
     "iopub.status.busy": "2022-07-15T10:40:54.408896Z",
     "iopub.status.idle": "2022-07-15T10:40:54.426110Z",
     "shell.execute_reply": "2022-07-15T10:40:54.424981Z"
    },
    "papermill": {
     "duration": 0.023244,
     "end_time": "2022-07-15T10:40:54.428446",
     "exception": false,
     "start_time": "2022-07-15T10:40:54.405202",
     "status": "completed"
    },
    "tags": []
   },
   "outputs": [],
   "source": [
    "def read_preprocess_data():    \n",
    "    train = pd.read_parquet('..input/amex-data-integer-dtypes-parquet-format/train.parquet')\n",
    "    features = train.drop(['customer_ID', 'S_2'], axis = 1).columns.to_list()\n",
    "    cat_features = [\n",
    "        \"B_30\",\n",
    "        \"B_38\",\n",
    "        \"D_114\",\n",
    "        \"D_116\",\n",
    "        \"D_117\",\n",
    "        \"D_120\",\n",
    "        \"D_126\",\n",
    "        \"D_63\",\n",
    "        \"D_64\",\n",
    "        \"D_66\",\n",
    "        \"D_68\",\n",
    "    ]\n",
    "    num_features = [col for col in features if col not in cat_features]\n",
    "    print('Starting training feature engineer...')\n",
    "    train_num_agg = train.groupby(\"customer_ID\")[num_features].agg(['mean', 'std', 'min', 'max', 'last'])\n",
    "    train_num_agg.columns = ['_'.join(x) for x in train_num_agg.columns]\n",
    "    train_num_agg.reset_index(inplace = True)\n",
    "    train_num_agg_lag3 = train_df.groupby(\"customer_ID\")[num_features].rolling(3).agg({'mean', 'std', 'min', 'max'}).groupby(\"customer_ID\").tail(1)\n",
    "    train_num_agg_lag3.columns = ['_lag3_'.join(x) for x in train_num_agg_lag3.columns]    \n",
    "    train_num_agg_lag3.reset_index(inplace = True)\n",
    "    #train_num_agg_lag3 = train_num_agg_lag3.reset_index().drop(['S_2'], axis=1)\n",
    "    train_cat_agg = train.groupby(\"customer_ID\")[cat_features].agg(['count', 'last', 'nunique'])\n",
    "    train_cat_agg.columns = ['_'.join(x) for x in train_cat_agg.columns]\n",
    "    train_cat_agg.reset_index(inplace = True)\n",
    "    train_labels = pd.read_csv('..input/amex-default-prediction/train_labels.csv')\n",
    "    train = train_num_agg.merge(train_cat_agg, how = 'inner', on = 'customer_ID').merge(train_labels, how = 'inner', on = 'customer_ID').merge(train_num_agg_lag3, how = 'inner', on = 'customer_ID')\n",
    "    del train_num_agg, train_cat_agg\n",
    "    gc.collect()\n",
    "    test = pd.read_parquet('..input/amex-data-integer-dtypes-parquet-format/test.parquet')\n",
    "    print('Starting test feature engineer...')\n",
    "    test_num_agg = test.groupby(\"customer_ID\")[num_features].agg(['mean', 'std', 'min', 'max', 'last'])\n",
    "    test_num_agg.columns = ['_'.join(x) for x in test_num_agg.columns]\n",
    "    test_num_agg.reset_index(inplace = True)\n",
    "    test_cat_agg = test.groupby(\"customer_ID\")[cat_features].agg(['count', 'last', 'nunique'])\n",
    "    test_cat_agg.columns = ['_'.join(x) for x in test_cat_agg.columns]\n",
    "    test_cat_agg.reset_index(inplace = True)\n",
    "    test = test_num_agg.merge(test_cat_agg, how = 'inner', on = 'customer_ID')\n",
    "    del test_num_agg, test_cat_agg\n",
    "    gc.collect()\n",
    "    # Save files to disk\n",
    "    train.to_parquet('train_fe.parquet')\n",
    "    test.to_parquet('test_fe.parquet')"
   ]
  },
  {
   "cell_type": "code",
   "execution_count": 4,
   "id": "0d319534",
   "metadata": {
    "execution": {
     "iopub.execute_input": "2022-07-15T10:40:54.434930Z",
     "iopub.status.busy": "2022-07-15T10:40:54.434601Z",
     "iopub.status.idle": "2022-07-15T10:40:54.443214Z",
     "shell.execute_reply": "2022-07-15T10:40:54.442114Z"
    },
    "papermill": {
     "duration": 0.014579,
     "end_time": "2022-07-15T10:40:54.445570",
     "exception": false,
     "start_time": "2022-07-15T10:40:54.430991",
     "status": "completed"
    },
    "tags": []
   },
   "outputs": [
    {
     "data": {
      "text/plain": [
       "'/kaggle/working'"
      ]
     },
     "execution_count": 4,
     "metadata": {},
     "output_type": "execute_result"
    }
   ],
   "source": [
    "import os\n",
    "os.getcwd()"
   ]
  }
 ],
 "metadata": {
  "kernelspec": {
   "display_name": "Python 3",
   "language": "python",
   "name": "python3"
  },
  "language_info": {
   "codemirror_mode": {
    "name": "ipython",
    "version": 3
   },
   "file_extension": ".py",
   "mimetype": "text/x-python",
   "name": "python",
   "nbconvert_exporter": "python",
   "pygments_lexer": "ipython3",
   "version": "3.7.12"
  },
  "papermill": {
   "default_parameters": {},
   "duration": 10.63397,
   "end_time": "2022-07-15T10:40:55.068859",
   "environment_variables": {},
   "exception": null,
   "input_path": "__notebook__.ipynb",
   "output_path": "__notebook__.ipynb",
   "parameters": {},
   "start_time": "2022-07-15T10:40:44.434889",
   "version": "2.3.4"
  }
 },
 "nbformat": 4,
 "nbformat_minor": 5
}
