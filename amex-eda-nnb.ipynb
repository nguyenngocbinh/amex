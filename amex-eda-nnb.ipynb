{
 "cells": [
  {
   "cell_type": "code",
   "execution_count": 1,
   "id": "385ac8b1",
   "metadata": {
    "_cell_guid": "b1076dfc-b9ad-4769-8c92-a6c4dae69d19",
    "_uuid": "8f2839f25d086af736a60e9eeb907d3b93b6e0e5",
    "execution": {
     "iopub.execute_input": "2022-07-16T02:50:15.965144Z",
     "iopub.status.busy": "2022-07-16T02:50:15.964304Z",
     "iopub.status.idle": "2022-07-16T02:50:15.984681Z",
     "shell.execute_reply": "2022-07-16T02:50:15.983780Z"
    },
    "papermill": {
     "duration": 0.031703,
     "end_time": "2022-07-16T02:50:15.988630",
     "exception": false,
     "start_time": "2022-07-16T02:50:15.956927",
     "status": "completed"
    },
    "tags": []
   },
   "outputs": [
    {
     "name": "stdout",
     "output_type": "stream",
     "text": [
      "/kaggle/input/amex-data-integer-dtypes-parquet-format/train.parquet\n",
      "/kaggle/input/amex-data-integer-dtypes-parquet-format/test.parquet\n",
      "/kaggle/input/amex-default-prediction/sample_submission.csv\n",
      "/kaggle/input/amex-default-prediction/train_data.csv\n",
      "/kaggle/input/amex-default-prediction/test_data.csv\n",
      "/kaggle/input/amex-default-prediction/train_labels.csv\n"
     ]
    }
   ],
   "source": [
    "# This Python 3 environment comes with many helpful analytics libraries installed\n",
    "# It is defined by the kaggle/python Docker image: https://github.com/kaggle/docker-python\n",
    "# For example, here's several helpful packages to load\n",
    "\n",
    "import numpy as np # linear algebra\n",
    "import pandas as pd # data processing, CSV file I/O (e.g. pd.read_csv)\n",
    "import gc\n",
    "\n",
    "# Input data files are available in the read-only \"../input/\" directory\n",
    "# For example, running this (by clicking run or pressing Shift+Enter) will list all files under the input directory\n",
    "\n",
    "import os\n",
    "for dirname, _, filenames in os.walk('/kaggle/input'):\n",
    "    for filename in filenames:\n",
    "        print(os.path.join(dirname, filename))\n",
    "\n",
    "# You can write up to 20GB to the current directory (/kaggle/working/) that gets preserved as output when you create a version using \"Save & Run All\" \n",
    "# You can also write temporary files to /kaggle/temp/, but they won't be saved outside of the current session"
   ]
  },
  {
   "cell_type": "markdown",
   "id": "97f55cd2",
   "metadata": {
    "papermill": {
     "duration": 0.004388,
     "end_time": "2022-07-16T02:50:15.998569",
     "exception": false,
     "start_time": "2022-07-16T02:50:15.994181",
     "status": "completed"
    },
    "tags": []
   },
   "source": [
    "# Preprocessing"
   ]
  },
  {
   "cell_type": "code",
   "execution_count": 2,
   "id": "bd9ae804",
   "metadata": {
    "execution": {
     "iopub.execute_input": "2022-07-16T02:50:16.009539Z",
     "iopub.status.busy": "2022-07-16T02:50:16.008585Z",
     "iopub.status.idle": "2022-07-16T02:50:16.179877Z",
     "shell.execute_reply": "2022-07-16T02:50:16.178308Z"
    },
    "papermill": {
     "duration": 0.180088,
     "end_time": "2022-07-16T02:50:16.182992",
     "exception": false,
     "start_time": "2022-07-16T02:50:16.002904",
     "status": "completed"
    },
    "tags": []
   },
   "outputs": [],
   "source": [
    "# ====================================================\n",
    "# Library\n",
    "# ====================================================\n",
    "import gc\n",
    "import warnings\n",
    "warnings.filterwarnings('ignore')\n",
    "import scipy as sp\n",
    "import numpy as np\n",
    "import pandas as pd\n",
    "pd.set_option('display.max_rows', 500)\n",
    "pd.set_option('display.max_columns', 500)\n",
    "pd.set_option('display.width', 1000)\n",
    "from tqdm.auto import tqdm\n",
    "import itertools"
   ]
  },
  {
   "cell_type": "code",
   "execution_count": 3,
   "id": "e196aca6",
   "metadata": {
    "execution": {
     "iopub.execute_input": "2022-07-16T02:50:16.194148Z",
     "iopub.status.busy": "2022-07-16T02:50:16.193646Z",
     "iopub.status.idle": "2022-07-16T02:50:16.213579Z",
     "shell.execute_reply": "2022-07-16T02:50:16.212227Z"
    },
    "papermill": {
     "duration": 0.0288,
     "end_time": "2022-07-16T02:50:16.216205",
     "exception": false,
     "start_time": "2022-07-16T02:50:16.187405",
     "status": "completed"
    },
    "tags": []
   },
   "outputs": [],
   "source": [
    "def read_preprocess_data():    \n",
    "    train = pd.read_parquet('../input/amex-data-integer-dtypes-parquet-format/train.parquet')    \n",
    "    features = train.drop(['customer_ID', 'S_2'], axis = 1).columns.to_list()\n",
    "    cat_features = [\n",
    "        \"B_30\",\n",
    "        \"B_38\",\n",
    "        \"D_114\",\n",
    "        \"D_116\",\n",
    "        \"D_117\",\n",
    "        \"D_120\",\n",
    "        \"D_126\",\n",
    "        \"D_63\",\n",
    "        \"D_64\",\n",
    "        \"D_66\",\n",
    "        \"D_68\",\n",
    "    ]\n",
    "    num_features = [col for col in features if col not in cat_features]\n",
    "    print('Starting training feature engineer...')\n",
    "    train_num_agg = train.groupby(\"customer_ID\")[num_features].agg(['mean', 'std', 'min', 'max', 'last'])\n",
    "    train_num_agg.columns = ['_'.join(x) for x in train_num_agg.columns]\n",
    "    train_num_agg.reset_index(inplace = True)\n",
    "    train_num_agg_lag3 = train.groupby(\"customer_ID\").tail(3).groupby(\"customer_ID\")[num_features].agg({'mean', 'std', 'min', 'max'})    \n",
    "    #train_num_agg_lag3 = train.groupby(\"customer_ID\")[num_features].rolling(3).agg({'mean', 'std', 'min', 'max'}).groupby(\"customer_ID\").tail(1)\n",
    "    train_num_agg_lag3.columns = ['_lag3_'.join(x) for x in train_num_agg_lag3.columns]    \n",
    "    train_num_agg_lag3.reset_index(inplace = True)    \n",
    "    train_cat_agg = train.groupby(\"customer_ID\")[cat_features].agg(['count', 'last', 'nunique'])\n",
    "    train_cat_agg.columns = ['_'.join(x) for x in train_cat_agg.columns]\n",
    "    train_cat_agg.reset_index(inplace = True)\n",
    "    train_labels = pd.read_csv('../input/amex-default-prediction/train_labels.csv')\n",
    "    train = train_num_agg.merge(train_cat_agg, how = 'inner', on = 'customer_ID').merge(train_labels, how = 'inner', on = 'customer_ID').merge(train_num_agg_lag3, how = 'inner', on = 'customer_ID')\n",
    "    # Save files to disk\n",
    "    train.to_parquet('../input/amex-data-integer-dtypes-parquet-format/train_fe.parquet')\n",
    "    del train_num_agg, train_cat_agg, train\n",
    "    gc.collect()    \n",
    "    test = pd.read_parquet('../input/amex-data-integer-dtypes-parquet-format/test.parquet')    \n",
    "    print('Starting test feature engineer...')\n",
    "    test_num_agg = test.groupby(\"customer_ID\")[num_features].agg(['mean', 'std', 'min', 'max', 'last'])\n",
    "    test_num_agg.columns = ['_'.join(x) for x in test_num_agg.columns]\n",
    "    test_num_agg.reset_index(inplace = True)\n",
    "    test_num_agg_lag3 = test.groupby(\"customer_ID\").tail(3).groupby(\"customer_ID\")[num_features].agg(['mean', 'std', 'min', 'max', 'last'])\n",
    "    test_num_agg_lag3.columns = ['_lag3_'.join(x) for x in test_num_agg_lag3.columns]    \n",
    "    test_num_agg_lag3.reset_index(inplace = True)\n",
    "    test_cat_agg = test.groupby(\"customer_ID\")[cat_features].agg(['count', 'last', 'nunique'])\n",
    "    test_cat_agg.columns = ['_'.join(x) for x in test_cat_agg.columns]\n",
    "    test_cat_agg.reset_index(inplace = True)\n",
    "    test = test_num_agg.merge(test_cat_agg, how = 'inner', on = 'customer_ID').merge(test_num_agg_lag3, how = 'inner', on = 'customer_ID')\n",
    "    gc.collect()\n",
    "    # Save files to disk    \n",
    "    test.to_parquet('../input/amex-data-integer-dtypes-parquet-format/test_fe.parquet')\n",
    "    del test_num_agg, test_cat_agg, test\n",
    "    gc.collect()"
   ]
  },
  {
   "cell_type": "code",
   "execution_count": 4,
   "id": "2c845e6d",
   "metadata": {
    "execution": {
     "iopub.execute_input": "2022-07-16T02:50:16.227188Z",
     "iopub.status.busy": "2022-07-16T02:50:16.226542Z",
     "iopub.status.idle": "2022-07-16T02:50:16.231591Z",
     "shell.execute_reply": "2022-07-16T02:50:16.230291Z"
    },
    "papermill": {
     "duration": 0.013502,
     "end_time": "2022-07-16T02:50:16.234067",
     "exception": false,
     "start_time": "2022-07-16T02:50:16.220565",
     "status": "completed"
    },
    "tags": []
   },
   "outputs": [],
   "source": [
    "# read_preprocess_data()"
   ]
  },
  {
   "cell_type": "code",
   "execution_count": 5,
   "id": "55f8eb87",
   "metadata": {
    "execution": {
     "iopub.execute_input": "2022-07-16T02:50:16.246272Z",
     "iopub.status.busy": "2022-07-16T02:50:16.245854Z",
     "iopub.status.idle": "2022-07-16T02:50:16.258870Z",
     "shell.execute_reply": "2022-07-16T02:50:16.257736Z"
    },
    "papermill": {
     "duration": 0.022174,
     "end_time": "2022-07-16T02:50:16.261410",
     "exception": false,
     "start_time": "2022-07-16T02:50:16.239236",
     "status": "completed"
    },
    "tags": []
   },
   "outputs": [],
   "source": [
    "def preprocess_train_data():    \n",
    "    train = pd.read_parquet('../input/amex-data-integer-dtypes-parquet-format/train.parquet')    \n",
    "    features = train.drop(['customer_ID', 'S_2'], axis = 1).columns.to_list()\n",
    "    cat_features = [\n",
    "        \"B_30\",\n",
    "        \"B_38\",\n",
    "        \"D_114\",\n",
    "        \"D_116\",\n",
    "        \"D_117\",\n",
    "        \"D_120\",\n",
    "        \"D_126\",\n",
    "        \"D_63\",\n",
    "        \"D_64\",\n",
    "        \"D_66\",\n",
    "        \"D_68\",\n",
    "    ]\n",
    "    num_features = [col for col in features if col not in cat_features]\n",
    "    print('Starting training feature engineer...')\n",
    "    train_num_agg = train.groupby(\"customer_ID\")[num_features].agg(['mean', 'std', 'min', 'max', 'last'])\n",
    "    train_num_agg.columns = ['_'.join(x) for x in train_num_agg.columns]\n",
    "    train_num_agg.reset_index(inplace = True)\n",
    "    train_num_agg_lag3 = train.groupby(\"customer_ID\").tail(3).groupby(\"customer_ID\")[num_features].agg({'mean', 'std', 'min', 'max'})    \n",
    "    #train_num_agg_lag3 = train.groupby(\"customer_ID\")[num_features].rolling(3).agg({'mean', 'std', 'min', 'max'}).groupby(\"customer_ID\").tail(1)\n",
    "    train_num_agg_lag3.columns = ['_lag3_'.join(x) for x in train_num_agg_lag3.columns]    \n",
    "    train_num_agg_lag3.reset_index(inplace = True)    \n",
    "    train_cat_agg = train.groupby(\"customer_ID\")[cat_features].agg(['count', 'last', 'nunique'])\n",
    "    train_cat_agg.columns = ['_'.join(x) for x in train_cat_agg.columns]\n",
    "    train_cat_agg.reset_index(inplace = True)\n",
    "    train_labels = pd.read_csv('../input/amex-default-prediction/train_labels.csv')\n",
    "    train = train_num_agg.merge(train_cat_agg, how = 'inner', on = 'customer_ID').merge(train_labels, how = 'inner', on = 'customer_ID').merge(train_num_agg_lag3, how = 'inner', on = 'customer_ID')\n",
    "    # Save files to disk\n",
    "    train.to_parquet('train_fe.parquet')\n",
    "    del train_num_agg, train_cat_agg, train\n",
    "    gc.collect()  "
   ]
  },
  {
   "cell_type": "code",
   "execution_count": 6,
   "id": "a0897a61",
   "metadata": {
    "execution": {
     "iopub.execute_input": "2022-07-16T02:50:16.272441Z",
     "iopub.status.busy": "2022-07-16T02:50:16.271984Z",
     "iopub.status.idle": "2022-07-16T02:56:46.085487Z",
     "shell.execute_reply": "2022-07-16T02:56:46.084196Z"
    },
    "papermill": {
     "duration": 389.822938,
     "end_time": "2022-07-16T02:56:46.088699",
     "exception": false,
     "start_time": "2022-07-16T02:50:16.265761",
     "status": "completed"
    },
    "tags": []
   },
   "outputs": [
    {
     "name": "stdout",
     "output_type": "stream",
     "text": [
      "Starting training feature engineer...\n"
     ]
    }
   ],
   "source": [
    "preprocess_train_data()"
   ]
  },
  {
   "cell_type": "code",
   "execution_count": 7,
   "id": "0ee4a1bb",
   "metadata": {
    "execution": {
     "iopub.execute_input": "2022-07-16T02:56:46.101865Z",
     "iopub.status.busy": "2022-07-16T02:56:46.101224Z",
     "iopub.status.idle": "2022-07-16T02:56:46.114902Z",
     "shell.execute_reply": "2022-07-16T02:56:46.114065Z"
    },
    "papermill": {
     "duration": 0.023203,
     "end_time": "2022-07-16T02:56:46.117325",
     "exception": false,
     "start_time": "2022-07-16T02:56:46.094122",
     "status": "completed"
    },
    "tags": []
   },
   "outputs": [],
   "source": [
    "def preprocess_test_data():    \n",
    "    gc.collect()    \n",
    "    test = pd.read_parquet('../input/amex-data-integer-dtypes-parquet-format/test.parquet')        \n",
    "    features = test.drop(['customer_ID', 'S_2'], axis = 1).columns.to_list()\n",
    "    cat_features = [\n",
    "        \"B_30\",\n",
    "        \"B_38\",\n",
    "        \"D_114\",\n",
    "        \"D_116\",\n",
    "        \"D_117\",\n",
    "        \"D_120\",\n",
    "        \"D_126\",\n",
    "        \"D_63\",\n",
    "        \"D_64\",\n",
    "        \"D_66\",\n",
    "        \"D_68\",\n",
    "    ]\n",
    "    num_features = [col for col in features if col not in cat_features]    \n",
    "    print('Starting test feature engineer...')\n",
    "    test_num_agg = test.groupby(\"customer_ID\")[num_features].agg(['mean', 'std', 'min', 'max', 'last'])\n",
    "    test_num_agg.columns = ['_'.join(x) for x in test_num_agg.columns]\n",
    "    test_num_agg.reset_index(inplace = True)\n",
    "    test_num_agg_lag3 = test.groupby(\"customer_ID\").tail(3).groupby(\"customer_ID\")[num_features].agg(['mean', 'std', 'min', 'max', 'last'])\n",
    "    test_num_agg_lag3.columns = ['_lag3_'.join(x) for x in test_num_agg_lag3.columns]    \n",
    "    test_num_agg_lag3.reset_index(inplace = True)\n",
    "    test_cat_agg = test.groupby(\"customer_ID\")[cat_features].agg(['count', 'last', 'nunique'])\n",
    "    test_cat_agg.columns = ['_'.join(x) for x in test_cat_agg.columns]\n",
    "    test_cat_agg.reset_index(inplace = True)\n",
    "    test = test_num_agg.merge(test_cat_agg, how = 'inner', on = 'customer_ID').merge(test_num_agg_lag3, how = 'inner', on = 'customer_ID')\n",
    "    gc.collect()\n",
    "    # Save files to disk    \n",
    "    test.to_parquet('test_fe.parquet')\n",
    "    del test_num_agg, test_cat_agg, test\n",
    "    gc.collect()"
   ]
  },
  {
   "cell_type": "code",
   "execution_count": 8,
   "id": "1ceb147d",
   "metadata": {
    "execution": {
     "iopub.execute_input": "2022-07-16T02:56:46.127951Z",
     "iopub.status.busy": "2022-07-16T02:56:46.127347Z",
     "iopub.status.idle": "2022-07-16T02:56:46.131102Z",
     "shell.execute_reply": "2022-07-16T02:56:46.130172Z"
    },
    "papermill": {
     "duration": 0.01173,
     "end_time": "2022-07-16T02:56:46.133342",
     "exception": false,
     "start_time": "2022-07-16T02:56:46.121612",
     "status": "completed"
    },
    "tags": []
   },
   "outputs": [],
   "source": [
    "# preprocess_test_data()"
   ]
  },
  {
   "cell_type": "code",
   "execution_count": 9,
   "id": "9b4f8f32",
   "metadata": {
    "execution": {
     "iopub.execute_input": "2022-07-16T02:56:46.144172Z",
     "iopub.status.busy": "2022-07-16T02:56:46.143526Z",
     "iopub.status.idle": "2022-07-16T02:56:46.151545Z",
     "shell.execute_reply": "2022-07-16T02:56:46.150769Z"
    },
    "papermill": {
     "duration": 0.016848,
     "end_time": "2022-07-16T02:56:46.154625",
     "exception": false,
     "start_time": "2022-07-16T02:56:46.137777",
     "status": "completed"
    },
    "tags": []
   },
   "outputs": [
    {
     "data": {
      "text/plain": [
       "'/kaggle/working'"
      ]
     },
     "execution_count": 9,
     "metadata": {},
     "output_type": "execute_result"
    }
   ],
   "source": [
    "import os\n",
    "os.getcwd()\n"
   ]
  },
  {
   "cell_type": "code",
   "execution_count": 10,
   "id": "7dbe1a25",
   "metadata": {
    "execution": {
     "iopub.execute_input": "2022-07-16T02:56:46.165051Z",
     "iopub.status.busy": "2022-07-16T02:56:46.164667Z",
     "iopub.status.idle": "2022-07-16T02:56:46.210636Z",
     "shell.execute_reply": "2022-07-16T02:56:46.208872Z"
    },
    "papermill": {
     "duration": 0.054303,
     "end_time": "2022-07-16T02:56:46.213393",
     "exception": false,
     "start_time": "2022-07-16T02:56:46.159090",
     "status": "completed"
    },
    "tags": []
   },
   "outputs": [
    {
     "name": "stdout",
     "output_type": "stream",
     "text": [
      ".parquet file: ['../input/amex-data-integer-dtypes-parquet-format/train.parquet', '../input/amex-data-integer-dtypes-parquet-format/test.parquet']\n",
      ".csv file ['../input/amex-default-prediction/sample_submission.csv', '../input/amex-default-prediction/train_data.csv', '../input/amex-default-prediction/test_data.csv', '../input/amex-default-prediction/train_labels.csv']\n"
     ]
    }
   ],
   "source": [
    "import glob \n",
    "print('.parquet file:', glob.glob('../input/amex-data-integer-dtypes-parquet-format/*'))\n",
    "print('.csv file', glob.glob('../input/amex-default-prediction/*'))"
   ]
  }
 ],
 "metadata": {
  "kernelspec": {
   "display_name": "Python 3",
   "language": "python",
   "name": "python3"
  },
  "language_info": {
   "codemirror_mode": {
    "name": "ipython",
    "version": 3
   },
   "file_extension": ".py",
   "mimetype": "text/x-python",
   "name": "python",
   "nbconvert_exporter": "python",
   "pygments_lexer": "ipython3",
   "version": "3.7.12"
  },
  "papermill": {
   "default_parameters": {},
   "duration": 402.54512,
   "end_time": "2022-07-16T02:56:47.142593",
   "environment_variables": {},
   "exception": null,
   "input_path": "__notebook__.ipynb",
   "output_path": "__notebook__.ipynb",
   "parameters": {},
   "start_time": "2022-07-16T02:50:04.597473",
   "version": "2.3.4"
  }
 },
 "nbformat": 4,
 "nbformat_minor": 5
}
